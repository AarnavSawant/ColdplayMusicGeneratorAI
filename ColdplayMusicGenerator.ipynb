{
  "nbformat": 4,
  "nbformat_minor": 0,
  "metadata": {
    "colab": {
      "name": "ColdplayMusicGenerator.ipynb",
      "provenance": [],
      "collapsed_sections": []
    },
    "kernelspec": {
      "name": "python3",
      "display_name": "Python 3"
    },
    "accelerator": "GPU"
  },
  "cells": [
    {
      "cell_type": "code",
      "metadata": {
        "id": "6cqY9-WzG19Z"
      },
      "source": [
        "import glob\r\n",
        "from music21 import converter, instrument, note, chord, stream\r\n",
        "import requests\r\n",
        "import numpy as np\r\n",
        "import pandas as pd\r\n",
        "import matplotlib.pyplot as plt\r\n",
        "import torch\r\n",
        "import torch.nn as nn\r\n",
        "from torch.autograd import Variable\r\n",
        "import torch.optim as optim\r\n",
        "import torch.utils.data as data\r\n",
        "from tensorflow.keras.preprocessing.text import Tokenizer\r\n",
        "import torch.nn.functional as F\r\n",
        "import matplotlib.pyplot as plt"
      ],
      "execution_count": null,
      "outputs": []
    },
    {
      "cell_type": "code",
      "metadata": {
        "colab": {
          "base_uri": "https://localhost:8080/"
        },
        "id": "FcT5in3486df",
        "outputId": "fcb8583d-cd26-4f27-f6ea-763fab20ed42"
      },
      "source": [
        "from google.colab import drive\n",
        "drive.mount('/content/drive')"
      ],
      "execution_count": null,
      "outputs": [
        {
          "output_type": "stream",
          "text": [
            "Mounted at /content/drive\n"
          ],
          "name": "stdout"
        }
      ]
    },
    {
      "cell_type": "code",
      "metadata": {
        "id": "HpyTfgr8QzgA"
      },
      "source": [
        "!mkdir tracks\r\n",
        "for i in range(24944, 24992):\r\n",
        "  req = requests.get(\"https://bitmidi.com/uploads/%d.mid\" % i)\r\n",
        "  open('tracks/%d.mid' % i, 'wb').write(req.content)"
      ],
      "execution_count": null,
      "outputs": []
    },
    {
      "cell_type": "code",
      "metadata": {
        "id": "uu_L669pSotf"
      },
      "source": [
        "device = torch.device('cuda' if torch.cuda.is_available() else 'cpu')"
      ],
      "execution_count": null,
      "outputs": []
    },
    {
      "cell_type": "code",
      "metadata": {
        "id": "-wcCfvs5RDBv"
      },
      "source": [
        "import glob\r\n",
        "from music21 import converter, instrument, note, chord, stream\r\n",
        "notes = []\r\n",
        "for file in glob.glob(\"tracks/*.mid\"):\r\n",
        "  midi = converter.parse(file)\r\n",
        "  notes_to_parse = None\r\n",
        "  try:\r\n",
        "    s2 = instrument.partitionByInstrument(midi)\r\n",
        "    notes_to_parse = s2.parts[0].recurse()\r\n",
        "  except:\r\n",
        "    notes_to_parse = midi.flat.notes\r\n",
        "  for element in notes_to_parse:\r\n",
        "    if isinstance(element, note.Note):\r\n",
        "      notes.append(str(element.pitch))\r\n",
        "    elif isinstance(element, chord.Chord):\r\n",
        "      notes.append(\".\".join(str(n) for n in element.normalOrder))\r\n",
        "  # print(notes)\r\n",
        "\r\n",
        "  "
      ],
      "execution_count": null,
      "outputs": []
    },
    {
      "cell_type": "code",
      "metadata": {
        "colab": {
          "base_uri": "https://localhost:8080/"
        },
        "id": "u61C7U9PH2Y0",
        "outputId": "d80c9d68-5704-4999-9b67-eb9daf13f9aa"
      },
      "source": [
        "print(len(notes))"
      ],
      "execution_count": null,
      "outputs": [
        {
          "output_type": "stream",
          "text": [
            "44543\n"
          ],
          "name": "stdout"
        }
      ]
    },
    {
      "cell_type": "code",
      "metadata": {
        "id": "9xKiLgtMGuTe"
      },
      "source": [
        "SEQUENCE_LENGTH = 200\r\n",
        "from sklearn.preprocessing import MinMaxScaler\r\n",
        "minMaxScaler = MinMaxScaler((-1, 1))\r\n",
        "def generate_sequences(notes):\r\n",
        "  sorted_pitches = sorted(set(item for item in notes))\r\n",
        "  pitch_dict = dict((note, number) for number, note in enumerate(sorted_pitches))\r\n",
        "  sequences = [pitch_dict[x] for x in notes]\r\n",
        "  sequence_group = []\r\n",
        "  for i in range(SEQUENCE_LENGTH, len(sequences) + 1):\r\n",
        "    new_sequence = sequences[i-SEQUENCE_LENGTH:i]\r\n",
        "    sequence_group.append(new_sequence)\r\n",
        "  sequence_group = np.array(sequence_group)\r\n",
        "  sequence_group = minMaxScaler.fit_transform(sequence_group)\r\n",
        "  return sequence_group\r\n",
        "\r\n"
      ],
      "execution_count": null,
      "outputs": []
    },
    {
      "cell_type": "code",
      "metadata": {
        "id": "pcxSRDRqKweT"
      },
      "source": [
        "sequences = generate_sequences(notes)"
      ],
      "execution_count": null,
      "outputs": []
    },
    {
      "cell_type": "code",
      "metadata": {
        "id": "8md_b1vEQAc-"
      },
      "source": [
        "BATCH_SIZE=64\r\n",
        "dset = data.TensorDataset(torch.from_numpy(sequences).to(device))\r\n",
        "dataloader = data.dataloader.DataLoader(dset, batch_size=BATCH_SIZE)"
      ],
      "execution_count": null,
      "outputs": []
    },
    {
      "cell_type": "code",
      "metadata": {
        "id": "_DC4wP1aRQij"
      },
      "source": [
        "class Discriminator(nn.Module):\r\n",
        "  def __init__(self):\r\n",
        "    super(Discriminator, self).__init__()\r\n",
        "    self.lstm1 = nn.LSTM(input_size=1, hidden_size=128, num_layers=3)\r\n",
        "    self.linear1 = nn.Linear(128, 64)\r\n",
        "    self.linear2 = nn.Linear(64, 1)\r\n",
        "  def forward(self, x):\r\n",
        "    x = x.to(device)\r\n",
        "    x, (self.h, self.c) = self.lstm1(x)\r\n",
        "    x = self.h[-1, :, :]\r\n",
        "    x = F.leaky_relu(self.linear1(x))\r\n",
        "    x = torch.sigmoid(self.linear2(x))\r\n",
        "    return x\r\n",
        "    \r\n",
        "\r\n"
      ],
      "execution_count": null,
      "outputs": []
    },
    {
      "cell_type": "code",
      "metadata": {
        "id": "PU2ApsfutmGb"
      },
      "source": [
        "class Generator(nn.Module):\r\n",
        "  def __init__(self):\r\n",
        "    super(Generator, self).__init__()\r\n",
        "    self.linear1 = nn.Linear(100, 64)\r\n",
        "    self.bn1 = nn.BatchNorm1d(64)\r\n",
        "    self.linear2 = nn.Linear(64, 128)\r\n",
        "    self.bn2 = nn.BatchNorm1d(128)\r\n",
        "    self.linear3 = nn.Linear(128, 256)\r\n",
        "    self.bn3 = nn.BatchNorm1d(256)\r\n",
        "    self.linear4 = nn.Linear(256, 512)\r\n",
        "    self.bn4 = nn.BatchNorm1d(512)\r\n",
        "    self.linear5 = nn.Linear(512, 200)\r\n",
        "  def forward(self, x):\r\n",
        "    x = x.to(device)\r\n",
        "    x = self.bn1(F.leaky_relu(self.linear1(x)))\r\n",
        "    x = self.bn2(F.leaky_relu(self.linear2(x)))\r\n",
        "    x = self.bn3(F.leaky_relu(self.linear3(x)))\r\n",
        "    x = self.bn4(F.leaky_relu(self.linear4(x)))\r\n",
        "    x = torch.tanh(self.linear5(x))\r\n",
        "    return x\r\n"
      ],
      "execution_count": null,
      "outputs": []
    },
    {
      "cell_type": "code",
      "metadata": {
        "id": "mkc_LHD_zMtf"
      },
      "source": [
        "generator = Generator().to(device)\r\n",
        "discriminator = Discriminator().to(device)\r\n",
        "criterion = nn.BCELoss().to(device)\r\n",
        "optimizerDiscriminator = optim.Adam(discriminator.parameters())\r\n",
        "optimizerGenerator = optim.Adam(generator.parameters())"
      ],
      "execution_count": null,
      "outputs": []
    },
    {
      "cell_type": "code",
      "metadata": {
        "id": "JEq2QeQDET1_"
      },
      "source": [
        "discriminator_loss_over_time = []\r\n",
        "generator_loss_over_time = []\r\n",
        "discriminator_fake_loss_over_time = []"
      ],
      "execution_count": null,
      "outputs": []
    },
    {
      "cell_type": "code",
      "metadata": {
        "colab": {
          "base_uri": "https://localhost:8080/"
        },
        "id": "BNBl6Tab7LiU",
        "outputId": "b0331405-3485-427d-a10f-8ba79cc6b141"
      },
      "source": [
        "with open(\"drive/My Drive/MusicGenerator2/genloss.txt\", \"r\") as f:\r\n",
        "  for line in f:\r\n",
        "    r = line[:-1]\r\n",
        "    generator_loss_over_time.append(float(r))\r\n",
        "with open(\"drive/My Drive/MusicGenerator2/dislossreal.txt\", \"r\") as f:\r\n",
        "  for line in f:\r\n",
        "    r = line[:-1]\r\n",
        "    discriminator_loss_over_time.append(float(r))\r\n",
        "with open(\"drive/My Drive/MusicGenerator2/dislossfake.txt\", \"r\") as f:\r\n",
        "  for line in f:\r\n",
        "    r = line[:-1]\r\n",
        "    discriminator_fake_loss_over_time.append(float(r))"
      ],
      "execution_count": null,
      "outputs": [
        {
          "output_type": "stream",
          "text": [
            "470.0\n",
            "475.0\n",
            "380.0\n",
            "434.0\n",
            "445.0\n",
            "458.0\n",
            "467.0\n",
            "478.0\n",
            "467.0\n",
            "480.0\n",
            "467.0\n",
            "469.0\n",
            "416.0\n",
            "452.0\n",
            "464.0\n",
            "470.0\n",
            "474.0\n",
            "478.0\n",
            "471.0\n",
            "476.0\n"
          ],
          "name": "stdout"
        }
      ]
    },
    {
      "cell_type": "code",
      "metadata": {
        "id": "rOf0tRcJGMNM"
      },
      "source": [
        "d_state_dict = torch.load(\"drive/My Drive/MusicGenerator2/discriminatorColdplay480\")\r\n",
        "discriminator.load_state_dict(d_state_dict)\r\n",
        "g_state_dict = torch.load(\"drive/My Drive/MusicGenerator2/generatorColdplay480\")\r\n",
        "generator.load_state_dict(g_state_dict)\r\n",
        "optim_d_state_dict = torch.load(\"drive/My Drive/MusicGenerator2/optimDiscriminatorColdplay480\")\r\n",
        "optimizerDiscriminator.load_state_dict(optim_d_state_dict)\r\n",
        "optim_g_state_dict = torch.load(\"drive/My Drive/MusicGenerator2/optimGeneratorColdplay480\")\r\n",
        "optimizerGenerator.load_state_dict(optim_g_state_dict)\r\n"
      ],
      "execution_count": null,
      "outputs": []
    },
    {
      "cell_type": "code",
      "metadata": {
        "colab": {
          "base_uri": "https://localhost:8080/",
          "height": 1000
        },
        "id": "f0ipCHsn6LJS",
        "outputId": "4a303efd-ae3b-4a82-f801-64ae046c4cfc"
      },
      "source": [
        "generator_loss_over_time = []\r\n",
        "discriminator_loss_over_time = []\r\n",
        "discriminator_fake_loss_over_time = []\r\n",
        "NOISE_LENGTH =100\r\n",
        "lossDEpoch = 0\r\n",
        "lossGEpoch = 0\r\n",
        "lossDFake = 0\r\n",
        "for epoch in range(339, 1500):\r\n",
        "  global lossDEpoch, lossGEpoch, lossDFake\r\n",
        "  lossDEpoch = 0\r\n",
        "  lossGEpoch = 0\r\n",
        "  lossDFake = 0\r\n",
        "  for i, d in enumerate(dataloader):\r\n",
        "    ## Updating Discriminator Network ##\r\n",
        "    # 1. Zero Gradient\r\n",
        "    optimizerDiscriminator.zero_grad()\r\n",
        "    optimizerGenerator.zero_grad()\r\n",
        "    # 2. Take the data tensor from dataloader\r\n",
        "    real_songs = d[0].to(device)\r\n",
        "    # 3. Reshape Data to be compatible for Discriminator Network (SEQUENCE_LENGTH, BATCH_SIZE, HIDDEN_FEATURES)\r\n",
        "    real_songs = Variable(torch.reshape(real_songs, (200, d[0].shape[0], 1))).to(device)\r\n",
        "    # 4. Get Output From Discriminator\r\n",
        "    outputD = discriminator(real_songs.float().to(device))\r\n",
        "    # 5. Create Target Tensor of Ones to be same shape as Output of Discriminator (BATCH_SIZE, 1)\r\n",
        "    target = torch.ones((real_songs.shape[1], 1)).to(device)\r\n",
        "    # 6. Compute BCE Loss\r\n",
        "    lossReal = criterion(outputD, target)\r\n",
        "    # 7. Generate Noise for Generator Network\r\n",
        "    noise = Variable(torch.randn((d[0].shape[0], NOISE_LENGTH)))\r\n",
        "    fake_songs = generator(noise)\r\n",
        "    # 8. Reshape Output of Generator to be compatible for Discriminator Network (SEQUENCE_LENGTH, BATCH_SIZE, HIDDEN_FEATURES)\r\n",
        "    fake_songs = torch.reshape(fake_songs, (200, d[0].shape[0] , 1)).to(device)\r\n",
        "    # 9. Create Target Tensor of Zeros to be same shape as Output of Discriminator (BATCH_SIZE, 1)\r\n",
        "    target = torch.zeros((fake_songs.shape[1], 1)).to(device)\r\n",
        "    outputD = discriminator(fake_songs.detach())\r\n",
        "    lossFake = criterion(outputD, target)\r\n",
        "    lossD = lossFake + lossReal\r\n",
        "    lossD.backward()\r\n",
        "    optimizerDiscriminator.step()\r\n",
        "\r\n",
        "    outputD = discriminator(fake_songs)\r\n",
        "    target = torch.ones((fake_songs.shape[1], 1)).to(device)\r\n",
        "    lossG = criterion(outputD, target)\r\n",
        "    lossG.backward()\r\n",
        "\r\n",
        "    lossDEpoch += lossReal.item()\r\n",
        "    lossGEpoch += lossG.item()\r\n",
        "    lossDFake += lossFake.item()\r\n",
        "\r\n",
        "    optimizerGenerator.step()\r\n",
        "  generator_loss_over_time.append(lossGEpoch)\r\n",
        "  discriminator_loss_over_time.append(lossDEpoch)\r\n",
        "  discriminator_fake_loss_over_time.append(lossDFake)\r\n",
        "  plt.clf()\r\n",
        "  plt.plot(generator_loss_over_time, label=\"Generator Loss\", color=\"blue\")\r\n",
        "  plt.plot(discriminator_loss_over_time, label=\"Discriminator Loss Real\", color=\"green\")\r\n",
        "  plt.plot(discriminator_fake_loss_over_time, label=\"Discriminator Loss Fake\", color=\"orange\")\r\n",
        "  plt.xlabel(\"Epoch\")\r\n",
        "  plt.legend()\r\n",
        "  plt.title(\"MusicGAN Loss Over Time\")\r\n",
        "  plt.ylabel(\"Loss\")\r\n",
        "  plt.savefig(\"drive/My Drive/MusicGenerator2/loss.jpg\")\r\n",
        "  if epoch % 10 == 0:\r\n",
        "      torch.save(generator.state_dict(), \"drive/My Drive/MusicGenerator2/generatorColdplay%d\" % epoch)\r\n",
        "      torch.save(discriminator.state_dict(), \"drive/My Drive/MusicGenerator2/discriminatorColdplay%d\" % epoch)\r\n",
        "      torch.save(optimizerGenerator.state_dict(), \"drive/My Drive/MusicGenerator2/optimGeneratorColdplay%d\" % epoch)\r\n",
        "      torch.save(optimizerDiscriminator.state_dict(), \"drive/My Drive/MusicGenerator2/optimDiscriminatorColdplay%d\" % epoch)\r\n",
        "  with open(\"drive/My Drive/MusicGenerator2/genloss.txt\", \"w\") as f:\r\n",
        "    for r in generator_loss_over_time:\r\n",
        "      f.write(\"%d\\n\" % r)\r\n",
        "  with open(\"drive/My Drive/MusicGenerator2/dislossreal.txt\", \"w\") as f:\r\n",
        "    for r in discriminator_loss_over_time:\r\n",
        "      f.write(\"%d\\n\" % r)\r\n",
        "  with open(\"drive/My Drive/MusicGenerator2/dislossfake.txt\", \"w\") as f:\r\n",
        "    for r in discriminator_fake_loss_over_time:\r\n",
        "      f.write(\"%d\\n\" % r)\r\n",
        "\r\n",
        "  print(\"Epoch %d, Cumulative_Loss_Generator: %.4f, Cumulative_Loss_Discriminator: %.4f, Average_Loss_Generator: %.4f Average_Loss_Discriminator: %.4f\" % (epoch + 1, lossGEpoch, lossDEpoch, lossGEpoch/len(dataloader), lossDEpoch/len(dataloader)))\r\n",
        "\r\n",
        "\r\n",
        "\r\n",
        "\r\n",
        "\r\n",
        "\r\n",
        "\r\n"
      ],
      "execution_count": null,
      "outputs": [
        {
          "output_type": "stream",
          "text": [
            "Epoch 340, Cumulative_Loss_Generator: 501.9825, Cumulative_Loss_Discriminator: 475.2989, Average_Loss_Generator: 0.7244 Average_Loss_Discriminator: 0.6859\n",
            "Epoch 341, Cumulative_Loss_Generator: 543.8485, Cumulative_Loss_Discriminator: 458.5389, Average_Loss_Generator: 0.7848 Average_Loss_Discriminator: 0.6617\n",
            "Epoch 342, Cumulative_Loss_Generator: 634.3684, Cumulative_Loss_Discriminator: 450.8678, Average_Loss_Generator: 0.9154 Average_Loss_Discriminator: 0.6506\n",
            "Epoch 343, Cumulative_Loss_Generator: 510.4715, Cumulative_Loss_Discriminator: 468.9289, Average_Loss_Generator: 0.7366 Average_Loss_Discriminator: 0.6767\n",
            "Epoch 344, Cumulative_Loss_Generator: 532.5328, Cumulative_Loss_Discriminator: 477.2172, Average_Loss_Generator: 0.7684 Average_Loss_Discriminator: 0.6886\n",
            "Epoch 345, Cumulative_Loss_Generator: 482.1381, Cumulative_Loss_Discriminator: 480.1215, Average_Loss_Generator: 0.6957 Average_Loss_Discriminator: 0.6928\n",
            "Epoch 346, Cumulative_Loss_Generator: 500.2009, Cumulative_Loss_Discriminator: 473.7506, Average_Loss_Generator: 0.7218 Average_Loss_Discriminator: 0.6836\n",
            "Epoch 347, Cumulative_Loss_Generator: 514.2737, Cumulative_Loss_Discriminator: 468.5665, Average_Loss_Generator: 0.7421 Average_Loss_Discriminator: 0.6761\n",
            "Epoch 348, Cumulative_Loss_Generator: 498.7487, Cumulative_Loss_Discriminator: 473.9181, Average_Loss_Generator: 0.7197 Average_Loss_Discriminator: 0.6839\n",
            "Epoch 349, Cumulative_Loss_Generator: 534.6810, Cumulative_Loss_Discriminator: 472.4483, Average_Loss_Generator: 0.7715 Average_Loss_Discriminator: 0.6817\n",
            "Epoch 350, Cumulative_Loss_Generator: 558.4072, Cumulative_Loss_Discriminator: 465.8755, Average_Loss_Generator: 0.8058 Average_Loss_Discriminator: 0.6723\n",
            "Epoch 351, Cumulative_Loss_Generator: 525.9082, Cumulative_Loss_Discriminator: 472.6038, Average_Loss_Generator: 0.7589 Average_Loss_Discriminator: 0.6820\n",
            "Epoch 352, Cumulative_Loss_Generator: 617.8159, Cumulative_Loss_Discriminator: 442.7632, Average_Loss_Generator: 0.8915 Average_Loss_Discriminator: 0.6389\n",
            "Epoch 353, Cumulative_Loss_Generator: 714.6328, Cumulative_Loss_Discriminator: 429.7834, Average_Loss_Generator: 1.0312 Average_Loss_Discriminator: 0.6202\n",
            "Epoch 354, Cumulative_Loss_Generator: 512.4942, Cumulative_Loss_Discriminator: 475.4958, Average_Loss_Generator: 0.7395 Average_Loss_Discriminator: 0.6861\n",
            "Epoch 355, Cumulative_Loss_Generator: 482.0379, Cumulative_Loss_Discriminator: 480.6958, Average_Loss_Generator: 0.6956 Average_Loss_Discriminator: 0.6936\n",
            "Epoch 356, Cumulative_Loss_Generator: 503.3096, Cumulative_Loss_Discriminator: 479.1197, Average_Loss_Generator: 0.7263 Average_Loss_Discriminator: 0.6914\n",
            "Epoch 357, Cumulative_Loss_Generator: 534.5003, Cumulative_Loss_Discriminator: 468.6383, Average_Loss_Generator: 0.7713 Average_Loss_Discriminator: 0.6762\n",
            "Epoch 358, Cumulative_Loss_Generator: 502.8181, Cumulative_Loss_Discriminator: 481.6990, Average_Loss_Generator: 0.7256 Average_Loss_Discriminator: 0.6951\n",
            "Epoch 359, Cumulative_Loss_Generator: 480.4734, Cumulative_Loss_Discriminator: 479.8270, Average_Loss_Generator: 0.6933 Average_Loss_Discriminator: 0.6924\n",
            "Epoch 360, Cumulative_Loss_Generator: 483.0079, Cumulative_Loss_Discriminator: 478.7438, Average_Loss_Generator: 0.6970 Average_Loss_Discriminator: 0.6908\n",
            "Epoch 361, Cumulative_Loss_Generator: 567.6602, Cumulative_Loss_Discriminator: 473.0555, Average_Loss_Generator: 0.8191 Average_Loss_Discriminator: 0.6826\n",
            "Epoch 362, Cumulative_Loss_Generator: 528.5927, Cumulative_Loss_Discriminator: 477.8879, Average_Loss_Generator: 0.7628 Average_Loss_Discriminator: 0.6896\n",
            "Epoch 363, Cumulative_Loss_Generator: 511.2881, Cumulative_Loss_Discriminator: 486.2030, Average_Loss_Generator: 0.7378 Average_Loss_Discriminator: 0.7016\n",
            "Epoch 364, Cumulative_Loss_Generator: 529.6289, Cumulative_Loss_Discriminator: 469.7303, Average_Loss_Generator: 0.7643 Average_Loss_Discriminator: 0.6778\n",
            "Epoch 365, Cumulative_Loss_Generator: 521.0621, Cumulative_Loss_Discriminator: 479.1469, Average_Loss_Generator: 0.7519 Average_Loss_Discriminator: 0.6914\n",
            "Epoch 366, Cumulative_Loss_Generator: 515.9623, Cumulative_Loss_Discriminator: 475.7726, Average_Loss_Generator: 0.7445 Average_Loss_Discriminator: 0.6865\n",
            "Epoch 367, Cumulative_Loss_Generator: 527.2049, Cumulative_Loss_Discriminator: 470.2335, Average_Loss_Generator: 0.7608 Average_Loss_Discriminator: 0.6785\n",
            "Epoch 368, Cumulative_Loss_Generator: 666.6875, Cumulative_Loss_Discriminator: 449.2403, Average_Loss_Generator: 0.9620 Average_Loss_Discriminator: 0.6483\n",
            "Epoch 369, Cumulative_Loss_Generator: 605.2943, Cumulative_Loss_Discriminator: 465.3290, Average_Loss_Generator: 0.8734 Average_Loss_Discriminator: 0.6715\n",
            "Epoch 370, Cumulative_Loss_Generator: 610.3928, Cumulative_Loss_Discriminator: 460.1605, Average_Loss_Generator: 0.8808 Average_Loss_Discriminator: 0.6640\n",
            "Epoch 371, Cumulative_Loss_Generator: 517.1100, Cumulative_Loss_Discriminator: 475.1058, Average_Loss_Generator: 0.7462 Average_Loss_Discriminator: 0.6856\n",
            "Epoch 372, Cumulative_Loss_Generator: 553.2921, Cumulative_Loss_Discriminator: 474.8777, Average_Loss_Generator: 0.7984 Average_Loss_Discriminator: 0.6852\n",
            "Epoch 373, Cumulative_Loss_Generator: 565.7755, Cumulative_Loss_Discriminator: 470.9256, Average_Loss_Generator: 0.8164 Average_Loss_Discriminator: 0.6795\n",
            "Epoch 374, Cumulative_Loss_Generator: 631.8987, Cumulative_Loss_Discriminator: 462.7372, Average_Loss_Generator: 0.9118 Average_Loss_Discriminator: 0.6677\n",
            "Epoch 375, Cumulative_Loss_Generator: 584.6110, Cumulative_Loss_Discriminator: 455.7476, Average_Loss_Generator: 0.8436 Average_Loss_Discriminator: 0.6576\n",
            "Epoch 376, Cumulative_Loss_Generator: 572.7054, Cumulative_Loss_Discriminator: 440.4571, Average_Loss_Generator: 0.8264 Average_Loss_Discriminator: 0.6356\n",
            "Epoch 377, Cumulative_Loss_Generator: 679.9957, Cumulative_Loss_Discriminator: 447.2112, Average_Loss_Generator: 0.9812 Average_Loss_Discriminator: 0.6453\n",
            "Epoch 378, Cumulative_Loss_Generator: 616.1821, Cumulative_Loss_Discriminator: 443.9411, Average_Loss_Generator: 0.8892 Average_Loss_Discriminator: 0.6406\n",
            "Epoch 379, Cumulative_Loss_Generator: 593.4288, Cumulative_Loss_Discriminator: 457.7041, Average_Loss_Generator: 0.8563 Average_Loss_Discriminator: 0.6605\n",
            "Epoch 380, Cumulative_Loss_Generator: 620.3735, Cumulative_Loss_Discriminator: 441.7594, Average_Loss_Generator: 0.8952 Average_Loss_Discriminator: 0.6375\n",
            "Epoch 381, Cumulative_Loss_Generator: 643.5233, Cumulative_Loss_Discriminator: 458.3280, Average_Loss_Generator: 0.9286 Average_Loss_Discriminator: 0.6614\n",
            "Epoch 382, Cumulative_Loss_Generator: 636.5372, Cumulative_Loss_Discriminator: 461.7670, Average_Loss_Generator: 0.9185 Average_Loss_Discriminator: 0.6663\n",
            "Epoch 383, Cumulative_Loss_Generator: 604.7925, Cumulative_Loss_Discriminator: 454.0939, Average_Loss_Generator: 0.8727 Average_Loss_Discriminator: 0.6553\n",
            "Epoch 384, Cumulative_Loss_Generator: 530.7800, Cumulative_Loss_Discriminator: 468.0770, Average_Loss_Generator: 0.7659 Average_Loss_Discriminator: 0.6754\n",
            "Epoch 385, Cumulative_Loss_Generator: 507.1640, Cumulative_Loss_Discriminator: 473.6125, Average_Loss_Generator: 0.7318 Average_Loss_Discriminator: 0.6834\n",
            "Epoch 386, Cumulative_Loss_Generator: 530.9630, Cumulative_Loss_Discriminator: 470.8075, Average_Loss_Generator: 0.7662 Average_Loss_Discriminator: 0.6794\n",
            "Epoch 387, Cumulative_Loss_Generator: 516.4216, Cumulative_Loss_Discriminator: 478.2534, Average_Loss_Generator: 0.7452 Average_Loss_Discriminator: 0.6901\n",
            "Epoch 388, Cumulative_Loss_Generator: 516.3445, Cumulative_Loss_Discriminator: 480.8906, Average_Loss_Generator: 0.7451 Average_Loss_Discriminator: 0.6939\n",
            "Epoch 389, Cumulative_Loss_Generator: 517.7784, Cumulative_Loss_Discriminator: 471.5117, Average_Loss_Generator: 0.7472 Average_Loss_Discriminator: 0.6804\n",
            "Epoch 390, Cumulative_Loss_Generator: 528.0185, Cumulative_Loss_Discriminator: 482.4417, Average_Loss_Generator: 0.7619 Average_Loss_Discriminator: 0.6962\n",
            "Epoch 391, Cumulative_Loss_Generator: 534.4347, Cumulative_Loss_Discriminator: 472.7959, Average_Loss_Generator: 0.7712 Average_Loss_Discriminator: 0.6822\n",
            "Epoch 392, Cumulative_Loss_Generator: 975.2024, Cumulative_Loss_Discriminator: 438.2631, Average_Loss_Generator: 1.4072 Average_Loss_Discriminator: 0.6324\n",
            "Epoch 393, Cumulative_Loss_Generator: 511.7012, Cumulative_Loss_Discriminator: 469.0572, Average_Loss_Generator: 0.7384 Average_Loss_Discriminator: 0.6769\n",
            "Epoch 394, Cumulative_Loss_Generator: 522.8401, Cumulative_Loss_Discriminator: 471.1538, Average_Loss_Generator: 0.7545 Average_Loss_Discriminator: 0.6799\n",
            "Epoch 395, Cumulative_Loss_Generator: 498.7000, Cumulative_Loss_Discriminator: 474.0398, Average_Loss_Generator: 0.7196 Average_Loss_Discriminator: 0.6840\n",
            "Epoch 396, Cumulative_Loss_Generator: 516.9502, Cumulative_Loss_Discriminator: 472.4751, Average_Loss_Generator: 0.7460 Average_Loss_Discriminator: 0.6818\n",
            "Epoch 397, Cumulative_Loss_Generator: 562.4366, Cumulative_Loss_Discriminator: 488.0085, Average_Loss_Generator: 0.8116 Average_Loss_Discriminator: 0.7042\n",
            "Epoch 398, Cumulative_Loss_Generator: 541.7622, Cumulative_Loss_Discriminator: 473.9353, Average_Loss_Generator: 0.7818 Average_Loss_Discriminator: 0.6839\n",
            "Epoch 399, Cumulative_Loss_Generator: 531.5413, Cumulative_Loss_Discriminator: 470.3518, Average_Loss_Generator: 0.7670 Average_Loss_Discriminator: 0.6787\n",
            "Epoch 400, Cumulative_Loss_Generator: 494.0167, Cumulative_Loss_Discriminator: 480.3941, Average_Loss_Generator: 0.7129 Average_Loss_Discriminator: 0.6932\n",
            "Epoch 401, Cumulative_Loss_Generator: 505.3018, Cumulative_Loss_Discriminator: 474.7843, Average_Loss_Generator: 0.7292 Average_Loss_Discriminator: 0.6851\n",
            "Epoch 402, Cumulative_Loss_Generator: 499.7946, Cumulative_Loss_Discriminator: 477.1572, Average_Loss_Generator: 0.7212 Average_Loss_Discriminator: 0.6885\n",
            "Epoch 403, Cumulative_Loss_Generator: 516.3744, Cumulative_Loss_Discriminator: 471.5338, Average_Loss_Generator: 0.7451 Average_Loss_Discriminator: 0.6804\n",
            "Epoch 404, Cumulative_Loss_Generator: 480.5842, Cumulative_Loss_Discriminator: 480.6026, Average_Loss_Generator: 0.6935 Average_Loss_Discriminator: 0.6935\n",
            "Epoch 405, Cumulative_Loss_Generator: 499.6116, Cumulative_Loss_Discriminator: 479.4002, Average_Loss_Generator: 0.7209 Average_Loss_Discriminator: 0.6918\n",
            "Epoch 406, Cumulative_Loss_Generator: 499.7066, Cumulative_Loss_Discriminator: 471.3633, Average_Loss_Generator: 0.7211 Average_Loss_Discriminator: 0.6802\n",
            "Epoch 407, Cumulative_Loss_Generator: 483.3628, Cumulative_Loss_Discriminator: 478.9300, Average_Loss_Generator: 0.6975 Average_Loss_Discriminator: 0.6911\n",
            "Epoch 408, Cumulative_Loss_Generator: 484.8215, Cumulative_Loss_Discriminator: 477.0713, Average_Loss_Generator: 0.6996 Average_Loss_Discriminator: 0.6884\n",
            "Epoch 409, Cumulative_Loss_Generator: 487.5111, Cumulative_Loss_Discriminator: 476.4576, Average_Loss_Generator: 0.7035 Average_Loss_Discriminator: 0.6875\n",
            "Epoch 410, Cumulative_Loss_Generator: 482.5069, Cumulative_Loss_Discriminator: 478.8033, Average_Loss_Generator: 0.6963 Average_Loss_Discriminator: 0.6909\n",
            "Epoch 411, Cumulative_Loss_Generator: 480.2294, Cumulative_Loss_Discriminator: 480.1887, Average_Loss_Generator: 0.6930 Average_Loss_Discriminator: 0.6929\n",
            "Epoch 412, Cumulative_Loss_Generator: 483.6800, Cumulative_Loss_Discriminator: 479.2391, Average_Loss_Generator: 0.6980 Average_Loss_Discriminator: 0.6915\n",
            "Epoch 413, Cumulative_Loss_Generator: 505.5214, Cumulative_Loss_Discriminator: 471.8184, Average_Loss_Generator: 0.7295 Average_Loss_Discriminator: 0.6808\n",
            "Epoch 414, Cumulative_Loss_Generator: 664.8003, Cumulative_Loss_Discriminator: 438.3311, Average_Loss_Generator: 0.9593 Average_Loss_Discriminator: 0.6325\n",
            "Epoch 415, Cumulative_Loss_Generator: 535.2606, Cumulative_Loss_Discriminator: 469.5461, Average_Loss_Generator: 0.7724 Average_Loss_Discriminator: 0.6776\n",
            "Epoch 416, Cumulative_Loss_Generator: 666.9234, Cumulative_Loss_Discriminator: 436.0603, Average_Loss_Generator: 0.9624 Average_Loss_Discriminator: 0.6292\n",
            "Epoch 417, Cumulative_Loss_Generator: 592.1352, Cumulative_Loss_Discriminator: 458.2752, Average_Loss_Generator: 0.8545 Average_Loss_Discriminator: 0.6613\n",
            "Epoch 418, Cumulative_Loss_Generator: 557.2365, Cumulative_Loss_Discriminator: 452.4623, Average_Loss_Generator: 0.8041 Average_Loss_Discriminator: 0.6529\n",
            "Epoch 419, Cumulative_Loss_Generator: 524.4064, Cumulative_Loss_Discriminator: 473.4033, Average_Loss_Generator: 0.7567 Average_Loss_Discriminator: 0.6831\n",
            "Epoch 420, Cumulative_Loss_Generator: 513.4509, Cumulative_Loss_Discriminator: 473.8023, Average_Loss_Generator: 0.7409 Average_Loss_Discriminator: 0.6837\n",
            "Epoch 421, Cumulative_Loss_Generator: 508.5018, Cumulative_Loss_Discriminator: 472.0337, Average_Loss_Generator: 0.7338 Average_Loss_Discriminator: 0.6811\n",
            "Epoch 422, Cumulative_Loss_Generator: 517.6568, Cumulative_Loss_Discriminator: 473.5673, Average_Loss_Generator: 0.7470 Average_Loss_Discriminator: 0.6834\n",
            "Epoch 423, Cumulative_Loss_Generator: 504.1531, Cumulative_Loss_Discriminator: 476.9149, Average_Loss_Generator: 0.7275 Average_Loss_Discriminator: 0.6882\n",
            "Epoch 424, Cumulative_Loss_Generator: 522.2197, Cumulative_Loss_Discriminator: 478.5591, Average_Loss_Generator: 0.7536 Average_Loss_Discriminator: 0.6906\n",
            "Epoch 425, Cumulative_Loss_Generator: 502.2314, Cumulative_Loss_Discriminator: 479.6706, Average_Loss_Generator: 0.7247 Average_Loss_Discriminator: 0.6922\n",
            "Epoch 426, Cumulative_Loss_Generator: 517.6424, Cumulative_Loss_Discriminator: 468.6707, Average_Loss_Generator: 0.7470 Average_Loss_Discriminator: 0.6763\n",
            "Epoch 427, Cumulative_Loss_Generator: 559.2238, Cumulative_Loss_Discriminator: 471.6147, Average_Loss_Generator: 0.8070 Average_Loss_Discriminator: 0.6805\n",
            "Epoch 428, Cumulative_Loss_Generator: 542.9486, Cumulative_Loss_Discriminator: 475.7660, Average_Loss_Generator: 0.7835 Average_Loss_Discriminator: 0.6865\n",
            "Epoch 429, Cumulative_Loss_Generator: 501.9960, Cumulative_Loss_Discriminator: 477.6719, Average_Loss_Generator: 0.7244 Average_Loss_Discriminator: 0.6893\n",
            "Epoch 430, Cumulative_Loss_Generator: 531.0785, Cumulative_Loss_Discriminator: 474.2690, Average_Loss_Generator: 0.7663 Average_Loss_Discriminator: 0.6844\n",
            "Epoch 431, Cumulative_Loss_Generator: 569.1923, Cumulative_Loss_Discriminator: 479.4785, Average_Loss_Generator: 0.8213 Average_Loss_Discriminator: 0.6919\n",
            "Epoch 432, Cumulative_Loss_Generator: 532.7395, Cumulative_Loss_Discriminator: 470.4388, Average_Loss_Generator: 0.7687 Average_Loss_Discriminator: 0.6788\n",
            "Epoch 433, Cumulative_Loss_Generator: 537.8327, Cumulative_Loss_Discriminator: 475.9062, Average_Loss_Generator: 0.7761 Average_Loss_Discriminator: 0.6867\n",
            "Epoch 434, Cumulative_Loss_Generator: 511.1265, Cumulative_Loss_Discriminator: 469.2574, Average_Loss_Generator: 0.7376 Average_Loss_Discriminator: 0.6771\n",
            "Epoch 435, Cumulative_Loss_Generator: 512.3757, Cumulative_Loss_Discriminator: 476.4345, Average_Loss_Generator: 0.7394 Average_Loss_Discriminator: 0.6875\n",
            "Epoch 436, Cumulative_Loss_Generator: 586.8045, Cumulative_Loss_Discriminator: 471.5358, Average_Loss_Generator: 0.8468 Average_Loss_Discriminator: 0.6804\n",
            "Epoch 437, Cumulative_Loss_Generator: 528.8934, Cumulative_Loss_Discriminator: 477.7857, Average_Loss_Generator: 0.7632 Average_Loss_Discriminator: 0.6894\n",
            "Epoch 438, Cumulative_Loss_Generator: 511.9841, Cumulative_Loss_Discriminator: 480.3126, Average_Loss_Generator: 0.7388 Average_Loss_Discriminator: 0.6931\n",
            "Epoch 439, Cumulative_Loss_Generator: 615.1817, Cumulative_Loss_Discriminator: 455.5355, Average_Loss_Generator: 0.8877 Average_Loss_Discriminator: 0.6573\n",
            "Epoch 440, Cumulative_Loss_Generator: 556.2944, Cumulative_Loss_Discriminator: 459.9431, Average_Loss_Generator: 0.8027 Average_Loss_Discriminator: 0.6637\n",
            "Epoch 441, Cumulative_Loss_Generator: 521.4083, Cumulative_Loss_Discriminator: 476.3824, Average_Loss_Generator: 0.7524 Average_Loss_Discriminator: 0.6874\n",
            "Epoch 442, Cumulative_Loss_Generator: 590.0203, Cumulative_Loss_Discriminator: 456.9205, Average_Loss_Generator: 0.8514 Average_Loss_Discriminator: 0.6593\n",
            "Epoch 443, Cumulative_Loss_Generator: 498.2381, Cumulative_Loss_Discriminator: 474.1437, Average_Loss_Generator: 0.7190 Average_Loss_Discriminator: 0.6842\n",
            "Epoch 444, Cumulative_Loss_Generator: 521.7129, Cumulative_Loss_Discriminator: 480.4539, Average_Loss_Generator: 0.7528 Average_Loss_Discriminator: 0.6933\n",
            "Epoch 445, Cumulative_Loss_Generator: 520.7107, Cumulative_Loss_Discriminator: 477.6444, Average_Loss_Generator: 0.7514 Average_Loss_Discriminator: 0.6892\n",
            "Epoch 446, Cumulative_Loss_Generator: 530.1836, Cumulative_Loss_Discriminator: 464.4043, Average_Loss_Generator: 0.7651 Average_Loss_Discriminator: 0.6701\n",
            "Epoch 447, Cumulative_Loss_Generator: 650.2166, Cumulative_Loss_Discriminator: 458.4490, Average_Loss_Generator: 0.9383 Average_Loss_Discriminator: 0.6615\n",
            "Epoch 448, Cumulative_Loss_Generator: 682.5359, Cumulative_Loss_Discriminator: 471.7533, Average_Loss_Generator: 0.9849 Average_Loss_Discriminator: 0.6807\n",
            "Epoch 449, Cumulative_Loss_Generator: 733.9421, Cumulative_Loss_Discriminator: 413.5463, Average_Loss_Generator: 1.0591 Average_Loss_Discriminator: 0.5967\n",
            "Epoch 450, Cumulative_Loss_Generator: 793.6497, Cumulative_Loss_Discriminator: 425.9920, Average_Loss_Generator: 1.1452 Average_Loss_Discriminator: 0.6147\n",
            "Epoch 451, Cumulative_Loss_Generator: 814.3837, Cumulative_Loss_Discriminator: 409.1073, Average_Loss_Generator: 1.1752 Average_Loss_Discriminator: 0.5903\n",
            "Epoch 452, Cumulative_Loss_Generator: 1096.2972, Cumulative_Loss_Discriminator: 369.9009, Average_Loss_Generator: 1.5820 Average_Loss_Discriminator: 0.5338\n",
            "Epoch 453, Cumulative_Loss_Generator: 1335.2927, Cumulative_Loss_Discriminator: 342.4313, Average_Loss_Generator: 1.9268 Average_Loss_Discriminator: 0.4941\n",
            "Epoch 454, Cumulative_Loss_Generator: 1122.7899, Cumulative_Loss_Discriminator: 381.9546, Average_Loss_Generator: 1.6202 Average_Loss_Discriminator: 0.5512\n",
            "Epoch 455, Cumulative_Loss_Generator: 955.1045, Cumulative_Loss_Discriminator: 391.4169, Average_Loss_Generator: 1.3782 Average_Loss_Discriminator: 0.5648\n",
            "Epoch 456, Cumulative_Loss_Generator: 759.3542, Cumulative_Loss_Discriminator: 419.5005, Average_Loss_Generator: 1.0957 Average_Loss_Discriminator: 0.6053\n",
            "Epoch 457, Cumulative_Loss_Generator: 800.0212, Cumulative_Loss_Discriminator: 428.3393, Average_Loss_Generator: 1.1544 Average_Loss_Discriminator: 0.6181\n",
            "Epoch 458, Cumulative_Loss_Generator: 754.1609, Cumulative_Loss_Discriminator: 450.7865, Average_Loss_Generator: 1.0883 Average_Loss_Discriminator: 0.6505\n",
            "Epoch 459, Cumulative_Loss_Generator: 646.6430, Cumulative_Loss_Discriminator: 458.1355, Average_Loss_Generator: 0.9331 Average_Loss_Discriminator: 0.6611\n",
            "Epoch 460, Cumulative_Loss_Generator: 664.0805, Cumulative_Loss_Discriminator: 462.3353, Average_Loss_Generator: 0.9583 Average_Loss_Discriminator: 0.6672\n",
            "Epoch 461, Cumulative_Loss_Generator: 524.7778, Cumulative_Loss_Discriminator: 466.4449, Average_Loss_Generator: 0.7573 Average_Loss_Discriminator: 0.6731\n",
            "Epoch 462, Cumulative_Loss_Generator: 543.9357, Cumulative_Loss_Discriminator: 470.1138, Average_Loss_Generator: 0.7849 Average_Loss_Discriminator: 0.6784\n",
            "Epoch 463, Cumulative_Loss_Generator: 631.9311, Cumulative_Loss_Discriminator: 465.2535, Average_Loss_Generator: 0.9119 Average_Loss_Discriminator: 0.6714\n",
            "Epoch 464, Cumulative_Loss_Generator: 848.7887, Cumulative_Loss_Discriminator: 411.0636, Average_Loss_Generator: 1.2248 Average_Loss_Discriminator: 0.5932\n",
            "Epoch 465, Cumulative_Loss_Generator: 890.7056, Cumulative_Loss_Discriminator: 414.4447, Average_Loss_Generator: 1.2853 Average_Loss_Discriminator: 0.5980\n",
            "Epoch 466, Cumulative_Loss_Generator: 781.1257, Cumulative_Loss_Discriminator: 385.3002, Average_Loss_Generator: 1.1272 Average_Loss_Discriminator: 0.5560\n",
            "Epoch 467, Cumulative_Loss_Generator: 910.5506, Cumulative_Loss_Discriminator: 393.0858, Average_Loss_Generator: 1.3139 Average_Loss_Discriminator: 0.5672\n",
            "Epoch 468, Cumulative_Loss_Generator: 924.3933, Cumulative_Loss_Discriminator: 396.5129, Average_Loss_Generator: 1.3339 Average_Loss_Discriminator: 0.5722\n",
            "Epoch 469, Cumulative_Loss_Generator: 831.0202, Cumulative_Loss_Discriminator: 416.3694, Average_Loss_Generator: 1.1992 Average_Loss_Discriminator: 0.6008\n",
            "Epoch 470, Cumulative_Loss_Generator: 766.6660, Cumulative_Loss_Discriminator: 416.1625, Average_Loss_Generator: 1.1063 Average_Loss_Discriminator: 0.6005\n",
            "Epoch 471, Cumulative_Loss_Generator: 817.3596, Cumulative_Loss_Discriminator: 415.3568, Average_Loss_Generator: 1.1795 Average_Loss_Discriminator: 0.5994\n",
            "Epoch 472, Cumulative_Loss_Generator: 942.4283, Cumulative_Loss_Discriminator: 407.0782, Average_Loss_Generator: 1.3599 Average_Loss_Discriminator: 0.5874\n",
            "Epoch 473, Cumulative_Loss_Generator: 935.5938, Cumulative_Loss_Discriminator: 412.6329, Average_Loss_Generator: 1.3501 Average_Loss_Discriminator: 0.5954\n",
            "Epoch 474, Cumulative_Loss_Generator: 910.4599, Cumulative_Loss_Discriminator: 424.4997, Average_Loss_Generator: 1.3138 Average_Loss_Discriminator: 0.6126\n",
            "Epoch 475, Cumulative_Loss_Generator: 793.8557, Cumulative_Loss_Discriminator: 437.1190, Average_Loss_Generator: 1.1455 Average_Loss_Discriminator: 0.6308\n",
            "Epoch 476, Cumulative_Loss_Generator: 710.5773, Cumulative_Loss_Discriminator: 430.3434, Average_Loss_Generator: 1.0254 Average_Loss_Discriminator: 0.6210\n",
            "Epoch 477, Cumulative_Loss_Generator: 672.9372, Cumulative_Loss_Discriminator: 458.1866, Average_Loss_Generator: 0.9710 Average_Loss_Discriminator: 0.6612\n",
            "Epoch 478, Cumulative_Loss_Generator: 724.6475, Cumulative_Loss_Discriminator: 454.2672, Average_Loss_Generator: 1.0457 Average_Loss_Discriminator: 0.6555\n",
            "Epoch 479, Cumulative_Loss_Generator: 872.3181, Cumulative_Loss_Discriminator: 417.7938, Average_Loss_Generator: 1.2588 Average_Loss_Discriminator: 0.6029\n",
            "Epoch 480, Cumulative_Loss_Generator: 657.2590, Cumulative_Loss_Discriminator: 463.7425, Average_Loss_Generator: 0.9484 Average_Loss_Discriminator: 0.6692\n",
            "Epoch 481, Cumulative_Loss_Generator: 569.0625, Cumulative_Loss_Discriminator: 462.8888, Average_Loss_Generator: 0.8212 Average_Loss_Discriminator: 0.6679\n",
            "Epoch 482, Cumulative_Loss_Generator: 528.6130, Cumulative_Loss_Discriminator: 468.5707, Average_Loss_Generator: 0.7628 Average_Loss_Discriminator: 0.6761\n",
            "Epoch 483, Cumulative_Loss_Generator: 532.8174, Cumulative_Loss_Discriminator: 460.1138, Average_Loss_Generator: 0.7689 Average_Loss_Discriminator: 0.6639\n",
            "Epoch 484, Cumulative_Loss_Generator: 617.2038, Cumulative_Loss_Discriminator: 454.7075, Average_Loss_Generator: 0.8906 Average_Loss_Discriminator: 0.6561\n",
            "Epoch 485, Cumulative_Loss_Generator: 683.2163, Cumulative_Loss_Discriminator: 446.3868, Average_Loss_Generator: 0.9859 Average_Loss_Discriminator: 0.6441\n"
          ],
          "name": "stdout"
        },
        {
          "output_type": "error",
          "ename": "KeyboardInterrupt",
          "evalue": "ignored",
          "traceback": [
            "\u001b[0;31m---------------------------------------------------------------------------\u001b[0m",
            "\u001b[0;31mKeyboardInterrupt\u001b[0m                         Traceback (most recent call last)",
            "\u001b[0;32m<ipython-input-56-1d8383f937fa>\u001b[0m in \u001b[0;36m<module>\u001b[0;34m()\u001b[0m\n\u001b[1;32m     33\u001b[0m     \u001b[0;31m# 9. Create Target Tensor of Zeros to be same shape as Output of Discriminator (BATCH_SIZE, 1)\u001b[0m\u001b[0;34m\u001b[0m\u001b[0;34m\u001b[0m\u001b[0;34m\u001b[0m\u001b[0m\n\u001b[1;32m     34\u001b[0m     \u001b[0mtarget\u001b[0m \u001b[0;34m=\u001b[0m \u001b[0mtorch\u001b[0m\u001b[0;34m.\u001b[0m\u001b[0mzeros\u001b[0m\u001b[0;34m(\u001b[0m\u001b[0;34m(\u001b[0m\u001b[0mfake_songs\u001b[0m\u001b[0;34m.\u001b[0m\u001b[0mshape\u001b[0m\u001b[0;34m[\u001b[0m\u001b[0;36m1\u001b[0m\u001b[0;34m]\u001b[0m\u001b[0;34m,\u001b[0m \u001b[0;36m1\u001b[0m\u001b[0;34m)\u001b[0m\u001b[0;34m)\u001b[0m\u001b[0;34m.\u001b[0m\u001b[0mto\u001b[0m\u001b[0;34m(\u001b[0m\u001b[0mdevice\u001b[0m\u001b[0;34m)\u001b[0m\u001b[0;34m\u001b[0m\u001b[0;34m\u001b[0m\u001b[0m\n\u001b[0;32m---> 35\u001b[0;31m     \u001b[0moutputD\u001b[0m \u001b[0;34m=\u001b[0m \u001b[0mdiscriminator\u001b[0m\u001b[0;34m(\u001b[0m\u001b[0mfake_songs\u001b[0m\u001b[0;34m.\u001b[0m\u001b[0mdetach\u001b[0m\u001b[0;34m(\u001b[0m\u001b[0;34m)\u001b[0m\u001b[0;34m)\u001b[0m\u001b[0;34m\u001b[0m\u001b[0;34m\u001b[0m\u001b[0m\n\u001b[0m\u001b[1;32m     36\u001b[0m     \u001b[0mlossFake\u001b[0m \u001b[0;34m=\u001b[0m \u001b[0mcriterion\u001b[0m\u001b[0;34m(\u001b[0m\u001b[0moutputD\u001b[0m\u001b[0;34m,\u001b[0m \u001b[0mtarget\u001b[0m\u001b[0;34m)\u001b[0m\u001b[0;34m\u001b[0m\u001b[0;34m\u001b[0m\u001b[0m\n\u001b[1;32m     37\u001b[0m     \u001b[0mlossD\u001b[0m \u001b[0;34m=\u001b[0m \u001b[0mlossFake\u001b[0m \u001b[0;34m+\u001b[0m \u001b[0mlossReal\u001b[0m\u001b[0;34m\u001b[0m\u001b[0;34m\u001b[0m\u001b[0m\n",
            "\u001b[0;32m/usr/local/lib/python3.6/dist-packages/torch/nn/modules/module.py\u001b[0m in \u001b[0;36m_call_impl\u001b[0;34m(self, *input, **kwargs)\u001b[0m\n\u001b[1;32m    725\u001b[0m             \u001b[0mresult\u001b[0m \u001b[0;34m=\u001b[0m \u001b[0mself\u001b[0m\u001b[0;34m.\u001b[0m\u001b[0m_slow_forward\u001b[0m\u001b[0;34m(\u001b[0m\u001b[0;34m*\u001b[0m\u001b[0minput\u001b[0m\u001b[0;34m,\u001b[0m \u001b[0;34m**\u001b[0m\u001b[0mkwargs\u001b[0m\u001b[0;34m)\u001b[0m\u001b[0;34m\u001b[0m\u001b[0;34m\u001b[0m\u001b[0m\n\u001b[1;32m    726\u001b[0m         \u001b[0;32melse\u001b[0m\u001b[0;34m:\u001b[0m\u001b[0;34m\u001b[0m\u001b[0;34m\u001b[0m\u001b[0m\n\u001b[0;32m--> 727\u001b[0;31m             \u001b[0mresult\u001b[0m \u001b[0;34m=\u001b[0m \u001b[0mself\u001b[0m\u001b[0;34m.\u001b[0m\u001b[0mforward\u001b[0m\u001b[0;34m(\u001b[0m\u001b[0;34m*\u001b[0m\u001b[0minput\u001b[0m\u001b[0;34m,\u001b[0m \u001b[0;34m**\u001b[0m\u001b[0mkwargs\u001b[0m\u001b[0;34m)\u001b[0m\u001b[0;34m\u001b[0m\u001b[0;34m\u001b[0m\u001b[0m\n\u001b[0m\u001b[1;32m    728\u001b[0m         for hook in itertools.chain(\n\u001b[1;32m    729\u001b[0m                 \u001b[0m_global_forward_hooks\u001b[0m\u001b[0;34m.\u001b[0m\u001b[0mvalues\u001b[0m\u001b[0;34m(\u001b[0m\u001b[0;34m)\u001b[0m\u001b[0;34m,\u001b[0m\u001b[0;34m\u001b[0m\u001b[0;34m\u001b[0m\u001b[0m\n",
            "\u001b[0;32m<ipython-input-10-d2c80feb8b83>\u001b[0m in \u001b[0;36mforward\u001b[0;34m(self, x)\u001b[0m\n\u001b[1;32m      7\u001b[0m   \u001b[0;32mdef\u001b[0m \u001b[0mforward\u001b[0m\u001b[0;34m(\u001b[0m\u001b[0mself\u001b[0m\u001b[0;34m,\u001b[0m \u001b[0mx\u001b[0m\u001b[0;34m)\u001b[0m\u001b[0;34m:\u001b[0m\u001b[0;34m\u001b[0m\u001b[0;34m\u001b[0m\u001b[0m\n\u001b[1;32m      8\u001b[0m     \u001b[0mx\u001b[0m \u001b[0;34m=\u001b[0m \u001b[0mx\u001b[0m\u001b[0;34m.\u001b[0m\u001b[0mto\u001b[0m\u001b[0;34m(\u001b[0m\u001b[0mdevice\u001b[0m\u001b[0;34m)\u001b[0m\u001b[0;34m\u001b[0m\u001b[0;34m\u001b[0m\u001b[0m\n\u001b[0;32m----> 9\u001b[0;31m     \u001b[0mx\u001b[0m\u001b[0;34m,\u001b[0m \u001b[0;34m(\u001b[0m\u001b[0mself\u001b[0m\u001b[0;34m.\u001b[0m\u001b[0mh\u001b[0m\u001b[0;34m,\u001b[0m \u001b[0mself\u001b[0m\u001b[0;34m.\u001b[0m\u001b[0mc\u001b[0m\u001b[0;34m)\u001b[0m \u001b[0;34m=\u001b[0m \u001b[0mself\u001b[0m\u001b[0;34m.\u001b[0m\u001b[0mlstm1\u001b[0m\u001b[0;34m(\u001b[0m\u001b[0mx\u001b[0m\u001b[0;34m)\u001b[0m\u001b[0;34m\u001b[0m\u001b[0;34m\u001b[0m\u001b[0m\n\u001b[0m\u001b[1;32m     10\u001b[0m     \u001b[0mx\u001b[0m \u001b[0;34m=\u001b[0m \u001b[0mself\u001b[0m\u001b[0;34m.\u001b[0m\u001b[0mh\u001b[0m\u001b[0;34m[\u001b[0m\u001b[0;34m-\u001b[0m\u001b[0;36m1\u001b[0m\u001b[0;34m,\u001b[0m \u001b[0;34m:\u001b[0m\u001b[0;34m,\u001b[0m \u001b[0;34m:\u001b[0m\u001b[0;34m]\u001b[0m\u001b[0;34m\u001b[0m\u001b[0;34m\u001b[0m\u001b[0m\n\u001b[1;32m     11\u001b[0m     \u001b[0mx\u001b[0m \u001b[0;34m=\u001b[0m \u001b[0mF\u001b[0m\u001b[0;34m.\u001b[0m\u001b[0mleaky_relu\u001b[0m\u001b[0;34m(\u001b[0m\u001b[0mself\u001b[0m\u001b[0;34m.\u001b[0m\u001b[0mlinear1\u001b[0m\u001b[0;34m(\u001b[0m\u001b[0mx\u001b[0m\u001b[0;34m)\u001b[0m\u001b[0;34m)\u001b[0m\u001b[0;34m\u001b[0m\u001b[0;34m\u001b[0m\u001b[0m\n",
            "\u001b[0;32m/usr/local/lib/python3.6/dist-packages/torch/nn/modules/module.py\u001b[0m in \u001b[0;36m_call_impl\u001b[0;34m(self, *input, **kwargs)\u001b[0m\n\u001b[1;32m    725\u001b[0m             \u001b[0mresult\u001b[0m \u001b[0;34m=\u001b[0m \u001b[0mself\u001b[0m\u001b[0;34m.\u001b[0m\u001b[0m_slow_forward\u001b[0m\u001b[0;34m(\u001b[0m\u001b[0;34m*\u001b[0m\u001b[0minput\u001b[0m\u001b[0;34m,\u001b[0m \u001b[0;34m**\u001b[0m\u001b[0mkwargs\u001b[0m\u001b[0;34m)\u001b[0m\u001b[0;34m\u001b[0m\u001b[0;34m\u001b[0m\u001b[0m\n\u001b[1;32m    726\u001b[0m         \u001b[0;32melse\u001b[0m\u001b[0;34m:\u001b[0m\u001b[0;34m\u001b[0m\u001b[0;34m\u001b[0m\u001b[0m\n\u001b[0;32m--> 727\u001b[0;31m             \u001b[0mresult\u001b[0m \u001b[0;34m=\u001b[0m \u001b[0mself\u001b[0m\u001b[0;34m.\u001b[0m\u001b[0mforward\u001b[0m\u001b[0;34m(\u001b[0m\u001b[0;34m*\u001b[0m\u001b[0minput\u001b[0m\u001b[0;34m,\u001b[0m \u001b[0;34m**\u001b[0m\u001b[0mkwargs\u001b[0m\u001b[0;34m)\u001b[0m\u001b[0;34m\u001b[0m\u001b[0;34m\u001b[0m\u001b[0m\n\u001b[0m\u001b[1;32m    728\u001b[0m         for hook in itertools.chain(\n\u001b[1;32m    729\u001b[0m                 \u001b[0m_global_forward_hooks\u001b[0m\u001b[0;34m.\u001b[0m\u001b[0mvalues\u001b[0m\u001b[0;34m(\u001b[0m\u001b[0;34m)\u001b[0m\u001b[0;34m,\u001b[0m\u001b[0;34m\u001b[0m\u001b[0;34m\u001b[0m\u001b[0m\n",
            "\u001b[0;32m/usr/local/lib/python3.6/dist-packages/torch/nn/modules/rnn.py\u001b[0m in \u001b[0;36mforward\u001b[0;34m(self, input, hx)\u001b[0m\n\u001b[1;32m    580\u001b[0m         \u001b[0;32mif\u001b[0m \u001b[0mbatch_sizes\u001b[0m \u001b[0;32mis\u001b[0m \u001b[0;32mNone\u001b[0m\u001b[0;34m:\u001b[0m\u001b[0;34m\u001b[0m\u001b[0;34m\u001b[0m\u001b[0m\n\u001b[1;32m    581\u001b[0m             result = _VF.lstm(input, hx, self._flat_weights, self.bias, self.num_layers,\n\u001b[0;32m--> 582\u001b[0;31m                               self.dropout, self.training, self.bidirectional, self.batch_first)\n\u001b[0m\u001b[1;32m    583\u001b[0m         \u001b[0;32melse\u001b[0m\u001b[0;34m:\u001b[0m\u001b[0;34m\u001b[0m\u001b[0;34m\u001b[0m\u001b[0m\n\u001b[1;32m    584\u001b[0m             result = _VF.lstm(input, batch_sizes, hx, self._flat_weights, self.bias,\n",
            "\u001b[0;31mKeyboardInterrupt\u001b[0m: "
          ]
        },
        {
          "output_type": "display_data",
          "data": {
            "image/png": "[encoded data removed]",
            "text/plain": [
              "<Figure size 432x288 with 1 Axes>"
            ]
          },
          "metadata": {
            "tags": [],
            "image/png": {
              "width": 400,
              "height": 277
            },
            "needs_background": "light"
          }
        }
      ]
    },
    {
      "cell_type": "code",
      "metadata": {
        "id": "5D2_G6FsUYr2"
      },
      "source": [
        "torch.save(generator.state_dict(), \"drive/My Drive/MusicGenerator2/generatorColdplay%d\" % epoch)\r\n",
        "torch.save(discriminator.state_dict(), \"drive/My Drive/MusicGenerator2/discriminatorColdplay%d\" % epoch)\r\n",
        "torch.save(optimizerGenerator.state_dict(), \"drive/My Drive/MusicGenerator2/optimGeneratorColdplay%d\" % epoch)\r\n",
        "torch.save(optimizerDiscriminator.state_dict(), \"drive/My Drive/MusicGenerator2/optimDiscriminatorColdplay%d\" % epoch)"
      ],
      "execution_count": null,
      "outputs": []
    },
    {
      "cell_type": "code",
      "metadata": {
        "id": "V0HilVHh84OJ"
      },
      "source": [
        "def create_midi(prediction_output, filename):\r\n",
        "  offset = 0\r\n",
        "  output_notes = []\r\n",
        "  for item in prediction_output:\r\n",
        "    pattern = item[0]\r\n",
        "    if (\".\" in pattern) or pattern.isdigit():\r\n",
        "      notes_in_chord = pattern.split(\".\")\r\n",
        "      notes = []\r\n",
        "      for current_note in notes_in_chord:\r\n",
        "        new_note = note.Note(int(current_note))\r\n",
        "        notes.append(new_note)\r\n",
        "      new_chord = chord.Chord(notes)\r\n",
        "      new_chord.offset = offset\r\n",
        "      output_notes.append(new_chord)\r\n",
        "    else:\r\n",
        "      new_note = note.Note(pattern)\r\n",
        "      new_note.offset = offset\r\n",
        "      new_note.storedIntrument = instrument.Piano()\r\n",
        "      output_notes.append(new_note)\r\n",
        "    offset += 0.5\r\n",
        "  midi_stream = stream.Stream(output_notes)\r\n",
        "  midi_stream.write('midi', fp=\"{}.mid\".format(filename))\r\n",
        "\r\n",
        "\r\n",
        "\r\n",
        "\r\n"
      ],
      "execution_count": null,
      "outputs": []
    },
    {
      "cell_type": "code",
      "metadata": {
        "id": "kkM2dL8PDio1"
      },
      "source": [
        "with open(\"drive/My Drive/MusicGenerator/genloss.txt\", \"w\") as f:\r\n",
        "  for r in generator_loss_over_time:\r\n",
        "    f.write(\"%d\\n\" % r)\r\n",
        "with open(\"drive/My Drive/MusicGenerator/disloss.txt\", \"w\") as f:\r\n",
        "  for r in discriminator_loss_over_time:\r\n",
        "    f.write(\"%d\\n\" % r)\r\n"
      ],
      "execution_count": null,
      "outputs": []
    },
    {
      "cell_type": "code",
      "metadata": {
        "id": "IUEWRJCi-msN"
      },
      "source": [
        "sorted_pitches = sorted(set(item for item in notes))\r\n",
        "pitch_dict = dict((number, note) for number, note in enumerate(sorted_pitches))"
      ],
      "execution_count": null,
      "outputs": []
    },
    {
      "cell_type": "code",
      "metadata": {
        "colab": {
          "base_uri": "https://localhost:8080/"
        },
        "id": "4mpSJJIc-wJI",
        "outputId": "ede3e54c-cc08-42cc-e818-e08e6d83c82e"
      },
      "source": [
        "sample_noise = torch.randn((64, 100))\r\n",
        "output = generator(sample_noise)\r\n",
        "import random\r\n",
        "print(output[63].cpu().detach().numpy())\r\n",
        "\r\n",
        "final_note_list = []\r\n",
        "output = output[0].cpu().detach().numpy().reshape((1, 200))\r\n",
        "output = minMaxScaler.inverse_transform(output)\r\n",
        "print(output)\r\n",
        "for x in output[0]:\r\n",
        "  final_note_list.append(pitch_dict[random.randint(0, 63)])\r\n"
      ],
      "execution_count": null,
      "outputs": [
        {
          "output_type": "stream",
          "text": [
            "[ 0.664136    0.2896312   0.66106194 -0.9999592   0.7903309   0.9970879\n",
            "  0.6652756   0.9942043   0.51020175  0.8242581  -0.00754637 -0.54229724\n",
            " -0.07677719  0.9134239   0.6516689   0.7397678   0.72970605  0.21909003\n",
            "  0.7832627  -0.9980237  -0.24038582  0.9697548  -0.14793457  0.91379166\n",
            "  0.6999518   0.60412407  0.00787012 -0.29406992 -0.84161353  0.96138835\n",
            " -0.25042582  0.9173628   0.7458098  -0.152676   -0.9999671   0.998185\n",
            " -0.79075736 -0.77204776  0.59062946  0.489503    0.73789644  0.07447355\n",
            "  0.06074766  0.72737676  0.19760677 -0.7967748  -0.10097427  0.91524535\n",
            "  0.68559676  0.53095895  0.09629031 -0.20521948  0.04757069  0.5455931\n",
            "  0.8377763   0.58589494  0.79844457  0.8628401  -0.14444664 -0.9968936\n",
            " -0.12931821  0.84460825  0.86211205  0.7048192   0.51238185 -0.66901124\n",
            "  0.48277172  0.40026647  0.9643506   0.99787253 -0.93592626  0.98076427\n",
            " -0.8195192   0.7506297   0.99971277 -0.99643147  0.95465237  0.9871766\n",
            " -0.46929774  0.8530081  -0.96151674  0.99031186  0.99951196 -0.9999952\n",
            "  0.02573013  0.99134415  0.3908071   0.69074315  0.39772257 -0.2711787\n",
            "  0.3346311  -0.294023   -0.02616136  0.95520055 -0.00543047  0.86796856\n",
            "  0.40996742 -0.88061535  0.9696297  -0.01329064 -0.31913248  0.61578184\n",
            " -0.13638984 -0.69477856  0.57498693  0.98776644  0.768481   -0.9996932\n",
            "  0.9982728   0.94830537  0.74425787  0.46038082  0.6041249   0.71935505\n",
            "  0.62546384 -0.99997556  0.9999691   0.99536085  0.10878927  0.93011564\n",
            "  0.52330816  0.25829113 -0.14379662  0.46588877  0.9997711   0.9920722\n",
            " -0.09859255  0.98727494  0.8205899  -0.9402848   0.3384456   0.53828806\n",
            "  0.9928768   0.9996697  -0.19503509  0.9796935   0.00210926 -0.19817849\n",
            " -0.50239     0.99957126  0.47967398  0.996624   -0.45602545  0.97972983\n",
            "  0.04550935 -0.2594454   0.98986644  0.4611678   0.99999994  0.99468213\n",
            " -0.22540124  0.4456797   0.33118346  0.9994208  -0.8960347  -0.97776306\n",
            "  0.65356684  0.99410486  0.15913726  0.75581247  0.6570661   0.9996396\n",
            "  0.45477292  0.9997689  -0.7837305   0.99645656 -0.04292852  0.0575337\n",
            " -0.05516948  0.27935505  0.4240943  -0.19684447  0.99643683 -0.80101347\n",
            "  0.64875925  0.15311167  0.9978495   0.31096375  0.05101861 -0.99874765\n",
            "  0.2670862   0.9773378   0.05660004  0.9916351   0.752192    0.66175604\n",
            "  0.5828173   0.33691564  0.10800542  0.53067756 -0.08106944  0.80634266\n",
            "  0.4037577   0.66493183  0.83169824 -0.9999993   0.74309015  0.9916079\n",
            "  0.14725433  0.4542521 ]\n",
            "[[2.83183746e+02 2.29661377e+02 2.78816162e+02 1.04879737e-02\n",
            "  2.92659149e+02 3.42517670e+02 2.80102478e+02 3.41817535e+02\n",
            "  2.60223969e+02 3.12799530e+02 1.74545197e+02 1.00989243e+02\n",
            "  1.57316635e+02 3.28520233e+02 2.84754364e+02 2.94279602e+02\n",
            "  2.92307770e+02 2.04045471e+02 3.06257751e+02 5.26391983e-01\n",
            "  1.32921997e+02 3.37515778e+02 1.43041092e+02 3.27009308e+02\n",
            "  2.89763519e+02 2.73585388e+02 1.79085785e+02 1.06741875e+02\n",
            "  3.08529606e+01 3.33517578e+02 1.24615936e+02 3.27166992e+02\n",
            "  2.94770813e+02 1.68962357e+02 4.59998846e-03 3.42724487e+02\n",
            "  3.41102638e+01 3.89633942e+01 2.72184479e+02 2.77352051e+02\n",
            "  2.98281219e+02 1.80108643e+02 1.85605438e+02 2.97632385e+02\n",
            "  1.98299820e+02 3.42813339e+01 1.73468613e+02 3.27038330e+02\n",
            "  2.90986938e+02 2.75689850e+02 2.14106262e+02 1.30291031e+02\n",
            "  1.94053375e+02 2.73968536e+02 3.17092987e+02 2.70558136e+02\n",
            "  3.06823273e+02 3.20811859e+02 1.42772781e+02 6.50336146e-01\n",
            "  1.46641983e+02 3.12253174e+02 3.22742065e+02 2.84964294e+02\n",
            "  2.59616425e+02 6.62267303e+01 2.62786804e+02 2.31064590e+02\n",
            "  3.37063812e+02 3.42420227e+02 6.67804861e+00 3.38680267e+02\n",
            "  2.88583851e+01 2.97745880e+02 3.42940918e+02 2.07694578e+00\n",
            "  3.33943268e+02 3.40972626e+02 9.25620728e+01 3.16340973e+02\n",
            "  7.10897541e+00 3.40987091e+02 3.42940582e+02 2.91332603e-03\n",
            "  1.63587036e+02 3.41465759e+02 2.29628281e+02 2.90068451e+02\n",
            "  2.44066803e+02 1.24312088e+02 2.37163971e+02 1.11167847e+02\n",
            "  2.04281662e+02 3.33810822e+02 1.74249130e+02 3.19803711e+02\n",
            "  2.68694702e+02 1.75856133e+01 3.36722260e+02 1.94589401e+02\n",
            "  1.17955521e+02 2.84081055e+02 1.40912872e+02 6.43548889e+01\n",
            "  2.62007111e+02 3.42049866e+02 3.02783783e+02 5.74589670e-02\n",
            "  3.42837799e+02 3.31231964e+02 2.91293396e+02 2.58326691e+02\n",
            "  2.68822021e+02 2.71442535e+02 2.92344360e+02 6.72620535e-03\n",
            "  3.42993378e+02 3.42428101e+02 1.79267410e+02 3.31696411e+02\n",
            "  2.69495911e+02 1.84057663e+02 1.48642746e+02 2.60847900e+02\n",
            "  3.42953888e+02 3.41965973e+02 1.46230682e+02 3.40903107e+02\n",
            "  3.15513123e+02 1.17514782e+01 2.20802078e+02 3.01102386e+02\n",
            "  3.41719727e+02 3.42945526e+02 1.53223648e+02 3.38566803e+02\n",
            "  1.88257477e+02 1.32728867e+02 8.53339386e+01 3.42950195e+02\n",
            "  2.37910202e+02 3.42547882e+02 8.70926361e+01 3.39602173e+02\n",
            "  1.90027649e+02 1.24165710e+02 3.41686371e+02 2.89769958e+02\n",
            "  3.43000000e+02 3.41918915e+02 1.19660652e+02 2.76310181e+02\n",
            "  2.26413193e+02 3.42867340e+02 2.19785309e+01 2.62875032e+00\n",
            "  2.69364868e+02 3.42136810e+02 1.94699753e+02 2.95163879e+02\n",
            "  2.69188171e+02 3.42950256e+02 2.36327225e+02 3.42956268e+02\n",
            "  3.50201416e+01 3.42248230e+02 1.51833008e+02 1.91481232e+02\n",
            "  1.34084549e+02 2.10827942e+02 2.46101105e+02 1.33396561e+02\n",
            "  3.42544800e+02 2.96492863e+01 2.82327789e+02 1.94428711e+02\n",
            "  3.42466187e+02 2.33844360e+02 1.72991318e+02 2.13562131e-01\n",
            "  2.12338242e+02 3.38475555e+02 1.61174026e+02 3.41950500e+02\n",
            "  3.03925568e+02 2.87041229e+02 2.63855591e+02 2.55390518e+02\n",
            "  1.90351349e+02 2.88872742e+02 1.68877090e+02 3.04701141e+02\n",
            "  2.50960770e+02 2.90506989e+02 3.13773132e+02 3.16888094e-04\n",
            "  2.91582031e+02 3.41536438e+02 1.95104584e+02 2.41503204e+02]]\n"
          ],
          "name": "stdout"
        }
      ]
    },
    {
      "cell_type": "code",
      "metadata": {
        "colab": {
          "base_uri": "https://localhost:8080/"
        },
        "id": "gokVX9nxCXAY",
        "outputId": "518a032d-3be2-41f2-9b39-222266a42b01"
      },
      "source": [
        "create_midi(final_note_list, \"track\")"
      ],
      "execution_count": null,
      "outputs": [
        {
          "output_type": "stream",
          "text": [
            "200\n"
          ],
          "name": "stdout"
        }
      ]
    }
  ]
}